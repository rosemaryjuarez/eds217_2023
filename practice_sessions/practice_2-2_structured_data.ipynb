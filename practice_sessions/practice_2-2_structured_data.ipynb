{
 "cells": [
  {
   "cell_type": "markdown",
   "metadata": {
    "slideshow": {
     "slide_type": "slide"
    }
   },
   "source": [
    "| [⬅️ Previous Session](practice_2-1_control_flow_statements.ipynb) | [🏠 Course Home](../index.ipynb) | [➡️ Next Session](practice_3-1_numpy.ipynb) |\n",
    "\n",
    "# Practice 1-4: Structured Data in Python"
   ]
  },
  {
   "cell_type": "markdown",
   "metadata": {},
   "source": [
    "## 📚  <b> Practice 1. </b> \n",
    "\n",
    "Dictionaries are an extremely common data structure. Often data is easiest to store according to keys, where each row of data has a unique key. \n",
    "\n",
    "For example, a dictionary of students might have a key for each student's name or id, and then a set of values that are associated with that student.\n",
    "\n",
    "### Make a dictionary of your peers.\n",
    "\n",
    "Come up with 3-4 questions and ask 5-6 of your peers to give answers to each one. The questions can be anything you want, but they should be questions that can be answered with a single word or number.\n",
    "\n",
    "For example, you might ask:\n",
    "- What is your favorite color? (pretty weak question)\n",
    "- How many siblings do you have? (ok, but not great)\n",
    "- What is your favorite genre of film? (better)\n",
    "- On a scale of 1-10, how well do you feel that you understand python dictionaries? (better still)\n",
    "\n",
    "Make sure you have a key for each person, and then a set of values for each question. \n",
    "\n",
    "Based on each person's responses, build a dictionary in the cell below:\n",
    "\n",
    "(note: You will end up with a dictionary of dictionaries)\n",
    "\n",
    "```python\n",
    "# Example:\n",
    "my_dict = {\n",
    "    'person1': {\n",
    "        'question1': 'answer1',\n",
    "        'question2': 'answer2',\n",
    "        'question3': 'answer3',\n",
    "        'question4': 'answer4',\n",
    "    },\n",
    "    'person2': {\n",
    "        'question1': 'answer1',\n",
    "        'question2': 'answer2',\n",
    "        'question3': 'answer3',\n",
    "        'question4': 'answer4',\n",
    "    },\n",
    "    'person3': {\n",
    "        'question1': 'answer1',\n",
    "        'question2': 'answer2',\n",
    "        'question3': 'answer3',\n",
    "        'question4': 'answer4',\n",
    "    },\n",
    "}\n",
    "```"
   ]
  },
  {
   "cell_type": "code",
   "execution_count": 18,
   "metadata": {},
   "outputs": [],
   "source": [
    "rj_dict = {\n",
    "    'hazel': {\n",
    "        'name a person you really like': 'hard',\n",
    "        'whats your favorite type of drink': 'sour_ale',\n",
    "        'if you could marry a celebrity, who would it be?': 'ryan_gosling',\n",
    "        'whats your least favorite smell': 'eggs',\n",
    "    },\n",
    "    'sam': {\n",
    "        'name a person you really like': 'brother',\n",
    "        'whats your favorite type of drink': 'cider',\n",
    "        'if you could marry a celebrity, who would it be?': 'none',\n",
    "        'whats your least favorite smell': 'skunks',\n",
    "    },\n",
    "    'bri': {\n",
    "        'name a person you really like': 'miranda',\n",
    "        'whats your favorite type of drink': 'wine',\n",
    "        'if you could marry a celebrity, who would it be?': 'younger_christ',\n",
    "        'whats your least favorite smell': 'compost',\n",
    "    },\n",
    "    'mariam': {\n",
    "        'name a person you really like': 'roommate',\n",
    "        'whats your favorite type of drink': 'sprite',\n",
    "        'if you could marry a celebrity, who would it be?': 'theo james',\n",
    "        'whats your least favorite smell': 'body odor',\n",
    "}\n",
    "\n",
    "}\n"
   ]
  },
  {
   "cell_type": "markdown",
   "metadata": {},
   "source": [
    "## Dictionary to dataframe\n",
    "\n",
    "Now that you have a dictionary, you can convert it to a dataframe.\n",
    "\n",
    "### Convert your dictionary to a dataframe\n",
    "\n",
    "Use the `pd.DataFrame()` function to convert your dictionary to a dataframe.\n",
    "\n",
    "```python\n",
    "import pandas as pd\n",
    "\n",
    "# Convert a dictionary to a dataframe\n",
    "df = pd.DataFrame(my_dict)\n",
    "```\n"
   ]
  },
  {
   "cell_type": "code",
   "execution_count": 19,
   "metadata": {},
   "outputs": [],
   "source": [
    "import pandas as pd\n",
    "questions_df = pd.DataFrame(rj_dict)"
   ]
  },
  {
   "cell_type": "markdown",
   "metadata": {},
   "source": [
    "\n",
    "### Investigate your dataframe using the following functions:\n",
    "\n",
    "- `df.head()`\n",
    "- `df.tail()`\n",
    "- `df.info()`\n",
    "\n"
   ]
  },
  {
   "cell_type": "code",
   "execution_count": 29,
   "metadata": {},
   "outputs": [
    {
     "data": {
      "text/html": [
       "<div>\n",
       "<style scoped>\n",
       "    .dataframe tbody tr th:only-of-type {\n",
       "        vertical-align: middle;\n",
       "    }\n",
       "\n",
       "    .dataframe tbody tr th {\n",
       "        vertical-align: top;\n",
       "    }\n",
       "\n",
       "    .dataframe thead th {\n",
       "        text-align: right;\n",
       "    }\n",
       "</style>\n",
       "<table border=\"1\" class=\"dataframe\">\n",
       "  <thead>\n",
       "    <tr style=\"text-align: right;\">\n",
       "      <th></th>\n",
       "      <th>hazel</th>\n",
       "      <th>sam</th>\n",
       "      <th>bri</th>\n",
       "      <th>mariam</th>\n",
       "    </tr>\n",
       "  </thead>\n",
       "  <tbody>\n",
       "    <tr>\n",
       "      <th>name a person you really like</th>\n",
       "      <td>hard</td>\n",
       "      <td>brother</td>\n",
       "      <td>miranda</td>\n",
       "      <td>roommate</td>\n",
       "    </tr>\n",
       "    <tr>\n",
       "      <th>whats your favorite type of drink</th>\n",
       "      <td>sour_ale</td>\n",
       "      <td>cider</td>\n",
       "      <td>wine</td>\n",
       "      <td>sprite</td>\n",
       "    </tr>\n",
       "    <tr>\n",
       "      <th>if you could marry a celebrity, who would it be?</th>\n",
       "      <td>ryan_gosling</td>\n",
       "      <td>none</td>\n",
       "      <td>younger_christ</td>\n",
       "      <td>theo james</td>\n",
       "    </tr>\n",
       "    <tr>\n",
       "      <th>whats your least favorite smell</th>\n",
       "      <td>eggs</td>\n",
       "      <td>skunks</td>\n",
       "      <td>compost</td>\n",
       "      <td>body odor</td>\n",
       "    </tr>\n",
       "  </tbody>\n",
       "</table>\n",
       "</div>"
      ],
      "text/plain": [
       "                                                         hazel      sam  \\\n",
       "name a person you really like                             hard  brother   \n",
       "whats your favorite type of drink                     sour_ale    cider   \n",
       "if you could marry a celebrity, who would it be?  ryan_gosling     none   \n",
       "whats your least favorite smell                           eggs   skunks   \n",
       "\n",
       "                                                             bri      mariam  \n",
       "name a person you really like                            miranda    roommate  \n",
       "whats your favorite type of drink                           wine      sprite  \n",
       "if you could marry a celebrity, who would it be?  younger_christ  theo james  \n",
       "whats your least favorite smell                          compost   body odor  "
      ]
     },
     "execution_count": 29,
     "metadata": {},
     "output_type": "execute_result"
    }
   ],
   "source": [
    "questions_df.head()\n"
   ]
  },
  {
   "cell_type": "markdown",
   "metadata": {},
   "source": [
    "Is your dataframe what you expected? If not, what is different? Why?? How would you need to change your data structure to get the dataframe you expected?"
   ]
  },
  {
   "cell_type": "code",
   "execution_count": null,
   "metadata": {},
   "outputs": [],
   "source": [
    "#at first i didnt match all the questions for the key, but after fixing it and reloading the df, it worked"
   ]
  },
  {
   "cell_type": "markdown",
   "metadata": {},
   "source": [
    "\n",
    "\n",
    "`df.transpose()` might be helpful here. What does it do?\n",
    "create a new dataframe that is a transposed version of your original dataframe.\n",
    "\n",
    "```python\n",
    "# Transpose a dataframe\n",
    "df_transposed = df.transpose()\n",
    "```"
   ]
  },
  {
   "cell_type": "code",
   "execution_count": 24,
   "metadata": {},
   "outputs": [
    {
     "data": {
      "text/html": [
       "<div>\n",
       "<style scoped>\n",
       "    .dataframe tbody tr th:only-of-type {\n",
       "        vertical-align: middle;\n",
       "    }\n",
       "\n",
       "    .dataframe tbody tr th {\n",
       "        vertical-align: top;\n",
       "    }\n",
       "\n",
       "    .dataframe thead th {\n",
       "        text-align: right;\n",
       "    }\n",
       "</style>\n",
       "<table border=\"1\" class=\"dataframe\">\n",
       "  <thead>\n",
       "    <tr style=\"text-align: right;\">\n",
       "      <th></th>\n",
       "      <th>name a person you really like</th>\n",
       "      <th>whats your favorite type of drink</th>\n",
       "      <th>if you could marry a celebrity, who would it be?</th>\n",
       "      <th>whats your least favorite smell</th>\n",
       "    </tr>\n",
       "  </thead>\n",
       "  <tbody>\n",
       "    <tr>\n",
       "      <th>hazel</th>\n",
       "      <td>hard</td>\n",
       "      <td>sour_ale</td>\n",
       "      <td>ryan_gosling</td>\n",
       "      <td>eggs</td>\n",
       "    </tr>\n",
       "    <tr>\n",
       "      <th>sam</th>\n",
       "      <td>brother</td>\n",
       "      <td>cider</td>\n",
       "      <td>none</td>\n",
       "      <td>skunks</td>\n",
       "    </tr>\n",
       "    <tr>\n",
       "      <th>bri</th>\n",
       "      <td>miranda</td>\n",
       "      <td>wine</td>\n",
       "      <td>younger_christ</td>\n",
       "      <td>compost</td>\n",
       "    </tr>\n",
       "    <tr>\n",
       "      <th>mariam</th>\n",
       "      <td>roommate</td>\n",
       "      <td>sprite</td>\n",
       "      <td>theo james</td>\n",
       "      <td>body odor</td>\n",
       "    </tr>\n",
       "  </tbody>\n",
       "</table>\n",
       "</div>"
      ],
      "text/plain": [
       "       name a person you really like whats your favorite type of drink  \\\n",
       "hazel                           hard                          sour_ale   \n",
       "sam                          brother                             cider   \n",
       "bri                          miranda                              wine   \n",
       "mariam                      roommate                            sprite   \n",
       "\n",
       "       if you could marry a celebrity, who would it be?  \\\n",
       "hazel                                      ryan_gosling   \n",
       "sam                                                none   \n",
       "bri                                      younger_christ   \n",
       "mariam                                       theo james   \n",
       "\n",
       "       whats your least favorite smell  \n",
       "hazel                             eggs  \n",
       "sam                             skunks  \n",
       "bri                            compost  \n",
       "mariam                       body odor  "
      ]
     },
     "execution_count": 24,
     "metadata": {},
     "output_type": "execute_result"
    }
   ],
   "source": [
    "# Transpose your dataframe so that the people are the rows and the questions are the columns.\n",
    "questions_transposed = questions_df.transpose()\n",
    "questions_transposed.head()\n"
   ]
  },
  {
   "cell_type": "markdown",
   "metadata": {},
   "source": [
    "### Visualize/summarize your dataframe using one or more of the following functions:\n",
    "\n",
    "- `df.describe()`\n",
    "- `df.plot()`\n",
    "- `df.hist()`"
   ]
  },
  {
   "cell_type": "code",
   "execution_count": 52,
   "metadata": {},
   "outputs": [
    {
     "ename": "ValueError",
     "evalue": "hist method requires numerical or datetime columns, nothing to plot.",
     "output_type": "error",
     "traceback": [
      "\u001b[1;31m---------------------------------------------------------------------------\u001b[0m",
      "\u001b[1;31mValueError\u001b[0m                                Traceback (most recent call last)",
      "Cell \u001b[1;32mIn[52], line 1\u001b[0m\n\u001b[1;32m----> 1\u001b[0m questions_transposed\u001b[39m.\u001b[39;49mhist(bins \u001b[39m=\u001b[39;49m \u001b[39m4\u001b[39;49m)\n",
      "File \u001b[1;32mc:\\Users\\rosem\\anaconda3\\envs\\eds217_2023\\lib\\site-packages\\pandas\\plotting\\_core.py:223\u001b[0m, in \u001b[0;36mhist_frame\u001b[1;34m(data, column, by, grid, xlabelsize, xrot, ylabelsize, yrot, ax, sharex, sharey, figsize, layout, bins, backend, legend, **kwargs)\u001b[0m\n\u001b[0;32m    134\u001b[0m \u001b[39m\u001b[39m\u001b[39m\"\"\"\u001b[39;00m\n\u001b[0;32m    135\u001b[0m \u001b[39mMake a histogram of the DataFrame's columns.\u001b[39;00m\n\u001b[0;32m    136\u001b[0m \n\u001b[1;32m   (...)\u001b[0m\n\u001b[0;32m    220\u001b[0m \u001b[39m    >>> hist = df.hist(bins=3)\u001b[39;00m\n\u001b[0;32m    221\u001b[0m \u001b[39m\"\"\"\u001b[39;00m\n\u001b[0;32m    222\u001b[0m plot_backend \u001b[39m=\u001b[39m _get_plot_backend(backend)\n\u001b[1;32m--> 223\u001b[0m \u001b[39mreturn\u001b[39;00m plot_backend\u001b[39m.\u001b[39mhist_frame(\n\u001b[0;32m    224\u001b[0m     data,\n\u001b[0;32m    225\u001b[0m     column\u001b[39m=\u001b[39mcolumn,\n\u001b[0;32m    226\u001b[0m     by\u001b[39m=\u001b[39mby,\n\u001b[0;32m    227\u001b[0m     grid\u001b[39m=\u001b[39mgrid,\n\u001b[0;32m    228\u001b[0m     xlabelsize\u001b[39m=\u001b[39mxlabelsize,\n\u001b[0;32m    229\u001b[0m     xrot\u001b[39m=\u001b[39mxrot,\n\u001b[0;32m    230\u001b[0m     ylabelsize\u001b[39m=\u001b[39mylabelsize,\n\u001b[0;32m    231\u001b[0m     yrot\u001b[39m=\u001b[39myrot,\n\u001b[0;32m    232\u001b[0m     ax\u001b[39m=\u001b[39max,\n\u001b[0;32m    233\u001b[0m     sharex\u001b[39m=\u001b[39msharex,\n\u001b[0;32m    234\u001b[0m     sharey\u001b[39m=\u001b[39msharey,\n\u001b[0;32m    235\u001b[0m     figsize\u001b[39m=\u001b[39mfigsize,\n\u001b[0;32m    236\u001b[0m     layout\u001b[39m=\u001b[39mlayout,\n\u001b[0;32m    237\u001b[0m     legend\u001b[39m=\u001b[39mlegend,\n\u001b[0;32m    238\u001b[0m     bins\u001b[39m=\u001b[39mbins,\n\u001b[0;32m    239\u001b[0m     \u001b[39m*\u001b[39m\u001b[39m*\u001b[39mkwargs,\n\u001b[0;32m    240\u001b[0m )\n",
      "File \u001b[1;32mc:\\Users\\rosem\\anaconda3\\envs\\eds217_2023\\lib\\site-packages\\pandas\\plotting\\_matplotlib\\hist.py:514\u001b[0m, in \u001b[0;36mhist_frame\u001b[1;34m(data, column, by, grid, xlabelsize, xrot, ylabelsize, yrot, ax, sharex, sharey, figsize, layout, bins, legend, **kwds)\u001b[0m\n\u001b[0;32m    511\u001b[0m naxes \u001b[39m=\u001b[39m \u001b[39mlen\u001b[39m(data\u001b[39m.\u001b[39mcolumns)\n\u001b[0;32m    513\u001b[0m \u001b[39mif\u001b[39;00m naxes \u001b[39m==\u001b[39m \u001b[39m0\u001b[39m:\n\u001b[1;32m--> 514\u001b[0m     \u001b[39mraise\u001b[39;00m \u001b[39mValueError\u001b[39;00m(\n\u001b[0;32m    515\u001b[0m         \u001b[39m\"\u001b[39m\u001b[39mhist method requires numerical or datetime columns, nothing to plot.\u001b[39m\u001b[39m\"\u001b[39m\n\u001b[0;32m    516\u001b[0m     )\n\u001b[0;32m    518\u001b[0m fig, axes \u001b[39m=\u001b[39m create_subplots(\n\u001b[0;32m    519\u001b[0m     naxes\u001b[39m=\u001b[39mnaxes,\n\u001b[0;32m    520\u001b[0m     ax\u001b[39m=\u001b[39max,\n\u001b[1;32m   (...)\u001b[0m\n\u001b[0;32m    525\u001b[0m     layout\u001b[39m=\u001b[39mlayout,\n\u001b[0;32m    526\u001b[0m )\n\u001b[0;32m    527\u001b[0m _axes \u001b[39m=\u001b[39m flatten_axes(axes)\n",
      "\u001b[1;31mValueError\u001b[0m: hist method requires numerical or datetime columns, nothing to plot."
     ]
    }
   ],
   "source": [
    "\n",
    "\n",
    "questions_transposed.hist(bins = 4)"
   ]
  },
  {
   "cell_type": "markdown",
   "metadata": {},
   "source": [
    "## 📚  <b> Practice 2. </b>\n",
    "\n",
    "### Structured data search: Find structured data on the internet and convert it to a dataframe.\n",
    "\n",
    "You're looking for data that is in a table format, like a spreadsheet, but not available as an easy to download `.csv` or `.excel` file. This turns out to describe a lot of data!\n",
    "\n",
    "Often you can find this kind of data on wikipedia, or on government websites, or in research articles that contain tables of results.\n"
   ]
  },
  {
   "cell_type": "code",
   "execution_count": 47,
   "metadata": {},
   "outputs": [],
   "source": [
    "from bs4 import BeautifulSoup\n",
    "import requests\n",
    "import pandas as pd\n"
   ]
  },
  {
   "cell_type": "code",
   "execution_count": 51,
   "metadata": {},
   "outputs": [
    {
     "name": "stdout",
     "output_type": "stream",
     "text": [
      "Requirement already satisfied: lxml in c:\\users\\rosem\\anaconda3\\envs\\eds217_2023\\lib\\site-packages (4.9.2)\n"
     ]
    }
   ],
   "source": [
    "!pip install lxml\n"
   ]
  },
  {
   "cell_type": "code",
   "execution_count": 39,
   "metadata": {},
   "outputs": [],
   "source": [
    "url = 'https://en.wikipedia.org/wiki/200_metres#Women_(outdoor)'"
   ]
  },
  {
   "cell_type": "markdown",
   "metadata": {},
   "source": [
    "### Convert your data to a dataframe"
   ]
  },
  {
   "cell_type": "code",
   "execution_count": 48,
   "metadata": {},
   "outputs": [
    {
     "ename": "FeatureNotFound",
     "evalue": "Couldn't find a tree builder with the features you requested: html.parset. Do you need to install a parser library?",
     "output_type": "error",
     "traceback": [
      "\u001b[1;31m---------------------------------------------------------------------------\u001b[0m",
      "\u001b[1;31mFeatureNotFound\u001b[0m                           Traceback (most recent call last)",
      "Cell \u001b[1;32mIn[48], line 2\u001b[0m\n\u001b[0;32m      1\u001b[0m response \u001b[39m=\u001b[39m requests\u001b[39m.\u001b[39mget(url)\n\u001b[1;32m----> 2\u001b[0m soup \u001b[39m=\u001b[39m BeautifulSoup(response\u001b[39m.\u001b[39;49mtext,\u001b[39m'\u001b[39;49m\u001b[39mhtml.parset\u001b[39;49m\u001b[39m'\u001b[39;49m)\n",
      "File \u001b[1;32mc:\\Users\\rosem\\anaconda3\\envs\\eds217_2023\\lib\\site-packages\\bs4\\__init__.py:250\u001b[0m, in \u001b[0;36mBeautifulSoup.__init__\u001b[1;34m(self, markup, features, builder, parse_only, from_encoding, exclude_encodings, element_classes, **kwargs)\u001b[0m\n\u001b[0;32m    248\u001b[0m     builder_class \u001b[39m=\u001b[39m builder_registry\u001b[39m.\u001b[39mlookup(\u001b[39m*\u001b[39mfeatures)\n\u001b[0;32m    249\u001b[0m     \u001b[39mif\u001b[39;00m builder_class \u001b[39mis\u001b[39;00m \u001b[39mNone\u001b[39;00m:\n\u001b[1;32m--> 250\u001b[0m         \u001b[39mraise\u001b[39;00m FeatureNotFound(\n\u001b[0;32m    251\u001b[0m             \u001b[39m\"\u001b[39m\u001b[39mCouldn\u001b[39m\u001b[39m'\u001b[39m\u001b[39mt find a tree builder with the features you \u001b[39m\u001b[39m\"\u001b[39m\n\u001b[0;32m    252\u001b[0m             \u001b[39m\"\u001b[39m\u001b[39mrequested: \u001b[39m\u001b[39m%s\u001b[39;00m\u001b[39m. Do you need to install a parser library?\u001b[39m\u001b[39m\"\u001b[39m\n\u001b[0;32m    253\u001b[0m             \u001b[39m%\u001b[39m \u001b[39m\"\u001b[39m\u001b[39m,\u001b[39m\u001b[39m\"\u001b[39m\u001b[39m.\u001b[39mjoin(features))\n\u001b[0;32m    255\u001b[0m \u001b[39m# At this point either we have a TreeBuilder instance in\u001b[39;00m\n\u001b[0;32m    256\u001b[0m \u001b[39m# builder, or we have a builder_class that we can instantiate\u001b[39;00m\n\u001b[0;32m    257\u001b[0m \u001b[39m# with the remaining **kwargs.\u001b[39;00m\n\u001b[0;32m    258\u001b[0m \u001b[39mif\u001b[39;00m builder \u001b[39mis\u001b[39;00m \u001b[39mNone\u001b[39;00m:\n",
      "\u001b[1;31mFeatureNotFound\u001b[0m: Couldn't find a tree builder with the features you requested: html.parset. Do you need to install a parser library?"
     ]
    }
   ],
   "source": [
    "response = requests.get(url)\n",
    "soup = BeautifulSoup(response.text,'html.parset')"
   ]
  },
  {
   "cell_type": "markdown",
   "metadata": {},
   "source": [
    "## Explore your dataframe using the following functions:\n",
    "\n",
    "- `df.describe()`\n",
    "- `df.plot()`\n",
    "- `df.hist()`"
   ]
  }
 ],
 "metadata": {
  "kernelspec": {
   "display_name": "Python 3",
   "language": "python",
   "name": "python3"
  },
  "language_info": {
   "codemirror_mode": {
    "name": "ipython",
    "version": 3
   },
   "file_extension": ".py",
   "mimetype": "text/x-python",
   "name": "python",
   "nbconvert_exporter": "python",
   "pygments_lexer": "ipython3",
   "version": "3.10.12"
  }
 },
 "nbformat": 4,
 "nbformat_minor": 4
}
