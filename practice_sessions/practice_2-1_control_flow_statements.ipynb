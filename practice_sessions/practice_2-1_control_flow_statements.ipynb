{
 "cells": [
  {
   "cell_type": "markdown",
   "metadata": {},
   "source": [
    "| [⬅️ Previous Session](practice_1-2_lists.ipynb) | [🏠 Course Home](../index.ipynb) | [➡️ Next Session](practice_2-2_structured_data.ipynb) |\n",
    "\n",
    "# Practice 2-1: Control Flow Statements\n",
    "\n",
    "![control.jpeg](assets/control.jpeg)\n",
    "\n",
    "<hr style=\"border-top: 1px solid gray; margin-top: 24px; margin-bottom: 1px\"></hr>"
   ]
  },
  {
   "cell_type": "markdown",
   "metadata": {},
   "source": [
    "\n",
    "## 📚  Practice 1\n",
    "\n",
    "In programs, <code>if</code> statements are useful for catching errors due to user input. \n",
    "\n",
    "Define two new variables based on user input: the first prompting for a temperature value and the second prompting for the units as \"F\" or \"C\". \n",
    "\n",
    "Using the equation below, write an <code>if</code> statement that converts the temperature input to °C if it was given in °F or to °F if given in °C. Recall that all variables assigned based on user input are strings. Be sure to comment your code.\n",
    "    \n",
    "Formula for conversion between °F and °C:\n",
    "    $$T_{^{\\circ} C} = (T_{^{\\circ} F} - 32) \\times 5/9$$\n"
   ]
  },
  {
   "cell_type": "markdown",
   "metadata": {},
   "source": [
    "Describe your strategy here:\n"
   ]
  },
  {
   "cell_type": "code",
   "execution_count": 8,
   "metadata": {},
   "outputs": [
    {
     "name": "stdout",
     "output_type": "stream",
     "text": [
      "109.4\n"
     ]
    }
   ],
   "source": [
    "# Add your code here:\n",
    "value = float(input())\n",
    "degrees = (input(\"is it C or F?\"))\n",
    "if degrees == 'C':\n",
    "    temp = ((value * (9/5)) + 32)\n",
    "    print(temp)\n",
    "elif degrees == 'F':\n",
    "    temp = (((value - 32) * (5/9)))\n",
    "    print(temp)"
   ]
  },
  {
   "cell_type": "markdown",
   "metadata": {},
   "source": [
    "## 📚  Practice 2. \n",
    "\n",
    "Using nested <code>if</code> statements and your code from Practice question #1, convert the user input temperature to the opposite units (°F to °C or vice versa), print a statement to the user that reports the temperature in the converted units and indicates whether or not the temperature below freezing. \n",
    "\n",
    "Your print statement should look something like:\n",
    "\n",
    "<code>The temperature is {__}°C/F. It is (not) below freezing.</code>\n",
    "\n"
   ]
  },
  {
   "cell_type": "markdown",
   "metadata": {},
   "source": [
    "Describe your strategy here:\n"
   ]
  },
  {
   "cell_type": "code",
   "execution_count": 99,
   "metadata": {},
   "outputs": [
    {
     "ename": "ValueError",
     "evalue": "could not convert string to float: ''",
     "output_type": "error",
     "traceback": [
      "\u001b[1;31m---------------------------------------------------------------------------\u001b[0m",
      "\u001b[1;31mValueError\u001b[0m                                Traceback (most recent call last)",
      "Cell \u001b[1;32mIn[99], line 5\u001b[0m\n\u001b[0;32m      1\u001b[0m \u001b[39m# Add your code here:\u001b[39;00m\n\u001b[0;32m      2\u001b[0m \u001b[39m# Add your code here:\u001b[39;00m\n\u001b[1;32m----> 5\u001b[0m value \u001b[39m=\u001b[39m \u001b[39mfloat\u001b[39;49m(\u001b[39minput\u001b[39;49m())\n\u001b[0;32m      6\u001b[0m degrees \u001b[39m=\u001b[39m (\u001b[39minput\u001b[39m(\u001b[39m\"\u001b[39m\u001b[39mis it C or F?\u001b[39m\u001b[39m\"\u001b[39m))\n\u001b[0;32m      7\u001b[0m \u001b[39mif\u001b[39;00m degrees \u001b[39m==\u001b[39m \u001b[39m'\u001b[39m\u001b[39mC\u001b[39m\u001b[39m'\u001b[39m:\n",
      "\u001b[1;31mValueError\u001b[0m: could not convert string to float: ''"
     ]
    }
   ],
   "source": [
    "# Add your code here:\n",
    "# Add your code here:\n",
    "\n",
    "\n",
    "value = float(input())\n",
    "degrees = (input(\"is it C or F?\"))\n",
    "if degrees == 'C':\n",
    "    temp = ((value * (9/5)) + 32)\n",
    "    if temp <= 0:\n",
    "        print(f'The temperature is {temp}°F. It is below freezing.')\n",
    "    else:\n",
    "        print(f'The temperature is {temp}°F. It is not below freezing.')\n",
    "elif degrees == 'F':\n",
    "    temp = (((value - 32) * (5/9)))\n",
    "    if temp <=32:\n",
    "        print(f'The temperature is {temp}°F. It is below freezing.')\n",
    "    else:\n",
    "        print(f'The temperature is {temp}°F. It is not below freezing.')\n",
    "else:\n",
    "    print(\"you either inputted a string or did not capitalize your letters\")\n",
    "\n"
   ]
  },
  {
   "cell_type": "markdown",
   "metadata": {},
   "source": [
    "## 📚  <b> Practice 3. </b> \n",
    "\n",
    "1. Create a list of the six organic elements sorted in alphabetical order and then print each element in the list.\n",
    "\n",
    "Given your sorted <code>org_elements</code> list and the corresponding list of atomic masses given in the cell below, use <code>enumerate()</code> in a <code>for</code> loop to print a formatted statement that expresses the atomic mass of of each element. \n",
    "\n",
    "Your formatted print statement should include the name of the element, the atomic mass rounded to 2 decimal places, and units.\n",
    "\n"
   ]
  },
  {
   "cell_type": "markdown",
   "metadata": {},
   "source": [
    "Describe your strategy here:\n",
    "\n"
   ]
  },
  {
   "cell_type": "code",
   "execution_count": 22,
   "metadata": {},
   "outputs": [
    {
     "name": "stdout",
     "output_type": "stream",
     "text": [
      "carbon\n",
      "hydrogen\n",
      "nitrogen\n",
      "oxygen\n",
      "phosphorus\n",
      "sulfur\n",
      "the index is 0, the element within the index is carbon, and the atomic mass is 12.01 g/mol\n",
      "the index is 1, the element within the index is hydrogen, and the atomic mass is 1.01 g/mol\n",
      "the index is 2, the element within the index is nitrogen, and the atomic mass is 14.01 g/mol\n",
      "the index is 3, the element within the index is oxygen, and the atomic mass is 16.0 g/mol\n",
      "the index is 4, the element within the index is phosphorus, and the atomic mass is 30.97 g/mol\n",
      "the index is 5, the element within the index is sulfur, and the atomic mass is 32.06 g/mol\n"
     ]
    }
   ],
   "source": [
    "atomic_mass = [12.011, 1.00784, 14.0067, 15.999, 30.97376, 32.065]  # g/mol\n",
    "org_elements = ['carbon', 'hydrogen', 'nitrogen', 'oxygen', 'phosphorus', 'sulfur']\n",
    "\n",
    "for i in org_elements:\n",
    "    print(i)\n",
    "\n",
    "for i, org in enumerate(org_elements):\n",
    "    print(f'the index is {i}, the element within the index is {org}, and the atomic mass is {round(atomic_mass[i], 2)} g/mol')"
   ]
  },
  {
   "cell_type": "markdown",
   "metadata": {},
   "source": [
    "## 📚  <b> Practice 4. </b> \n",
    "The cell below contains monthly global land-ocean surface temperature in °F for each month during the years 2015-2022. \n",
    "\n",
    "Using  <code>enumerate()</code>, <code>zip()</code>, a nested <code>for</code> loop, or some combination of the three:\n",
    "\n",
    "<ol class=\"alpha\">\n",
    "<li> Calculate the monthly global land-ocean surface temperature anomalies (deviation from the mean) in °C for 2015-2018. The mean global land-ocean surface temperature calculated over the 20th century was 15.6°C.</li>\n",
    "<li> Create a new list with the mean monthly global surface temperature anomalies in °C for 2015-2023 (i.e. calculate the mean temperature anomaly for each month and put these values in a list). Use the command <code>np.mean()</code> to calculate mean values. </li> \n",
    "<li> Print each monthly mean value with the name of the month and units. </li>\n",
    "</ol>\n",
    "</div>"
   ]
  },
  {
   "cell_type": "code",
   "execution_count": 59,
   "metadata": {},
   "outputs": [],
   "source": [
    "# Import numpy for mean calculations\n",
    "import numpy as np\n",
    "\n",
    "tempF_2015 = [61.628, 61.7, 61.808, 61.448, 61.52, 61.538, 61.394, 61.52, 61.61, 62.042, 61.988, 62.168]\n",
    "tempF_2016 = [62.186, 62.546, 62.528, 62.06, 61.79, 61.52, 61.61, 61.916, 61.718, 61.682, 61.736, 61.628]\n",
    "tempF_2017 = [61.916, 62.132, 62.168, 61.772, 61.718, 61.376, 61.556, 61.646, 61.466, 61.7, 61.664, 61.754]\n",
    "tempF_2018 = [61.556, 61.61, 61.664, 61.682, 61.556, 61.466, 61.556, 61.448, 61.52, 61.916, 61.556, 61.718]\n",
    "tempF_2019 = [61.754, 61.79, 62.186, 61.898, 61.61, 61.7, 61.772, 61.79, 61.754, 61.898, 61.862, 62.042]\n",
    "tempF_2020 = [62.186, 62.312, 62.186, 62.114, 61.898, 61.736, 61.7, 61.646, 61.862, 61.664, 62.06, 61.538]\n",
    "tempF_2021 = [61.538, 61.232, 61.664, 61.43, 61.484, 61.592, 61.736, 61.556, 61.736, 61.88, 61.772, 61.61]\n",
    "\n",
    "# List of yearly lists (may or may not be useful)\n",
    "tempF_list = [tempF_2015, tempF_2016, tempF_2017, tempF_2018, tempF_2019, tempF_2020, tempF_2021]\n",
    "\n",
    "# List of years (probably useful)\n",
    "years = [2015, 2016, 2017, 2018, 2019, 2020, 2021]"
   ]
  },
  {
   "cell_type": "code",
   "execution_count": 130,
   "metadata": {},
   "outputs": [
    {
     "data": {
      "text/plain": [
       "61.739000000000004"
      ]
     },
     "execution_count": 130,
     "metadata": {},
     "output_type": "execute_result"
    }
   ],
   "source": [
    "tempF_2021 = [61.538, 61.232, 61.664, 61.43, 61.484, 61.592, 61.736, 61.556, 61.736, 61.88, 61.772, 61.61]\n",
    "\n",
    "np.mean(tempF_2017)"
   ]
  },
  {
   "cell_type": "code",
   "execution_count": 154,
   "metadata": {},
   "outputs": [],
   "source": [
    "#change from F to C:\n",
    "tempC_2015 = []\n",
    "tempC_2016 = []\n",
    "tempC_2017 = []\n",
    "tempC_2018 = []\n",
    "tempC_2019 = []\n",
    "tempC_2020 = []\n",
    "tempC_2021 = []\n",
    "for i, tempF in enumerate(tempF_2015): \n",
    "    tempC_15 = (tempF - 32) * (5/9)\n",
    "    tempC_2015.append(tempC_15)\n",
    "\n",
    "for i, tempF in enumerate(tempF_2016): \n",
    "    tempC_16 = (tempF - 32) * (5/9)\n",
    "    tempC_2016.append(tempC_16)\n",
    "\n",
    "for i, tempF in enumerate(tempF_2017): \n",
    "    tempC_17 = (tempF - 32) * (5/9)\n",
    "    tempC_2017.append(tempC_17)\n",
    "\n",
    "for i, tempF in enumerate(tempF_2018): \n",
    "    tempC_18 = (tempF - 32) * (5/9)\n",
    "    tempC_2018.append(tempC_18)\n",
    "\n",
    "for i, tempF in enumerate(tempF_2019): \n",
    "    tempC_19 = (tempF - 32) * (5/9)\n",
    "    tempC_2019.append(tempC_19)\n",
    "\n",
    "for i, tempF in enumerate(tempF_2020): \n",
    "    tempC_20 = (tempF - 32) * (5/9)\n",
    "    tempC_2020.append(tempC_20)\n",
    "\n",
    "for i, tempF in enumerate(tempF_2021): \n",
    "    tempC_21 = (tempF - 32) * (5/9)\n",
    "    tempC_2021.append(tempC_21)\n"
   ]
  },
  {
   "cell_type": "code",
   "execution_count": 155,
   "metadata": {},
   "outputs": [],
   "source": [
    "#list of list in C\n",
    "tempC_list = [tempC_2015, tempC_2016, tempC_2017, tempC_2018, tempC_2019, tempC_2020, tempC_2021]"
   ]
  },
  {
   "cell_type": "markdown",
   "metadata": {},
   "source": [
    "Describe your strategy here:\n",
    "\n"
   ]
  },
  {
   "cell_type": "code",
   "execution_count": 162,
   "metadata": {},
   "outputs": [
    {
     "name": "stdout",
     "output_type": "stream",
     "text": [
      "[0.8600000000000012, 0.9000000000000039, 0.9600000000000026, 0.7599999999999998, 0.8000000000000025, 0.8100000000000005, 0.7299999999999986, 0.8000000000000025, 0.8499999999999996, 1.0900000000000016, 1.0600000000000005, 1.160000000000002]\n",
      "[1.17, 1.3699999999999992, 1.3600000000000012, 1.1000000000000032, 0.9500000000000011, 0.8000000000000025, 0.8499999999999996, 1.0199999999999978, 0.9100000000000019, 0.8900000000000023, 0.9199999999999999, 0.8600000000000012]\n",
      "[1.0199999999999978, 1.1399999999999988, 1.160000000000002, 0.9399999999999995, 0.9100000000000019, 0.7200000000000006, 0.8199999999999985, 0.8700000000000028, 0.7700000000000014, 0.9000000000000039, 0.8800000000000008, 0.9300000000000015]\n",
      "[0.8199999999999985, 0.8499999999999996, 0.8800000000000008, 0.8900000000000023, 0.8199999999999985, 0.7700000000000014, 0.8199999999999985, 0.7599999999999998, 0.8000000000000025, 1.0199999999999978, 0.8199999999999985, 0.9100000000000019]\n",
      "[0.9300000000000015, 0.9500000000000011, 1.17, 1.0100000000000033, 0.8499999999999996, 0.9000000000000039, 0.9399999999999995, 0.9500000000000011, 0.9300000000000015, 1.0100000000000033, 0.9900000000000038, 1.0900000000000016]\n",
      "[1.17, 1.2400000000000002, 1.17, 1.1300000000000008, 1.0100000000000033, 0.9199999999999999, 0.9000000000000039, 0.8700000000000028, 0.9900000000000038, 0.8800000000000008, 1.1000000000000032, 0.8100000000000005]\n",
      "[0.8100000000000005, 0.6400000000000023, 0.8800000000000008, 0.7500000000000018, 0.7800000000000029, 0.8400000000000016, 0.9199999999999999, 0.8199999999999985, 0.9199999999999999, 1.0000000000000018, 0.9399999999999995, 0.8499999999999996]\n"
     ]
    }
   ],
   "source": [
    "#subtract\n",
    "subAnom_2015 = []\n",
    "for i, tempC in enumerate(tempC_2015):\n",
    "    new_temp = tempC - 15.6\n",
    "    subAnom_2015.append(new_temp)\n",
    "\n",
    "print(subAnom_2015)\n",
    "\n",
    "subAnom_2016 = []\n",
    "for i, tempC in enumerate(tempC_2016):\n",
    "    new_temp = tempC - 15.6\n",
    "    subAnom_2016.append(new_temp)\n",
    "\n",
    "print(subAnom_2016)\n",
    "\n",
    "subAnom_2017 = []\n",
    "for i, tempC in enumerate(tempC_2017):\n",
    "    new_temp = tempC - 15.6\n",
    "    subAnom_2017.append(new_temp)\n",
    "\n",
    "print(subAnom_2017)\n",
    "\n",
    "subAnom_2018 = []\n",
    "for i, tempC in enumerate(tempC_2018):\n",
    "    new_temp = tempC - 15.6\n",
    "    subAnom_2018.append(new_temp)\n",
    "\n",
    "print(subAnom_2018)\n",
    "\n",
    "subAnom_2019 = []\n",
    "for i, tempC in enumerate(tempC_2019):\n",
    "    new_temp = tempC - 15.6\n",
    "    subAnom_2019.append(new_temp)\n",
    "\n",
    "print(subAnom_2019)\n",
    "\n",
    "subAnom_2020 = []\n",
    "for i, tempC in enumerate(tempC_2020):\n",
    "    new_temp = tempC - 15.6\n",
    "    subAnom_2020.append(new_temp)\n",
    "\n",
    "print(subAnom_2020)\n",
    "\n",
    "subAnom_2021 = []\n",
    "for i, tempC in enumerate(tempC_2021):\n",
    "    new_temp = tempC - 15.6\n",
    "    subAnom_2021.append(new_temp)\n",
    "\n",
    "print(subAnom_2021)"
   ]
  },
  {
   "cell_type": "code",
   "execution_count": 168,
   "metadata": {},
   "outputs": [],
   "source": [
    "##put all anomalies in a list (so another list in a list)\n",
    "sub_AnomC_list = [subAnom_2015, subAnom_2016, subAnom_2017, subAnom_2018, subAnom_2019, subAnom_2020, subAnom_2021]"
   ]
  },
  {
   "cell_type": "code",
   "execution_count": 173,
   "metadata": {},
   "outputs": [
    {
     "name": "stdout",
     "output_type": "stream",
     "text": [
      "[0.8983333333333346, 1.0166666666666675, 0.9216666666666674, 0.8466666666666667, 0.9766666666666683, 1.015833333333335, 0.8458333333333341]\n"
     ]
    }
   ],
   "source": [
    "## average mean for AN ENIRE YEAR, not monthly :`(\n",
    "\n",
    "#so dont look at this bc its useless\n",
    "\n",
    "null_mean_list = []\n",
    "for i, tempC in enumerate(sub_AnomC_list):\n",
    "    null_mean_list.append(np.mean(tempC))\n",
    "    \n",
    "\n",
    "\n",
    "print(null_mean_list)\n",
    "\n",
    "\n"
   ]
  },
  {
   "cell_type": "code",
   "execution_count": 194,
   "metadata": {},
   "outputs": [
    {
     "name": "stdout",
     "output_type": "stream",
     "text": [
      "[0.8600000000000012, 1.17, 1.0199999999999978, 0.8199999999999985, 0.9300000000000015, 1.17, 0.8100000000000005]\n",
      "[0.9000000000000039, 1.3699999999999992, 1.1399999999999988, 0.8499999999999996, 0.9500000000000011, 1.2400000000000002, 0.6400000000000023]\n"
     ]
    }
   ],
   "source": [
    "## making new lists that put the months throughout the 7 lists into their respective list\n",
    "jan_mean = []\n",
    "feb_mean = []\n",
    "march_mean = []\n",
    "april_mean = []\n",
    "may_mean = []\n",
    "june_mean = []\n",
    "july_mean = []\n",
    "aug_mean = []\n",
    "sep_mean = []\n",
    "oct_mean = []\n",
    "nov_mean = []\n",
    "dec_mean = []\n",
    "\n",
    "## a for loop within a for loop => mindblown\n",
    "for year,temp in enumerate(sub_AnomC_list):\n",
    "    for month, value in enumerate(temp):\n",
    "        if month == 0:\n",
    "            jan_mean.append(value)\n",
    "        if month == 1:\n",
    "            feb_mean.append(value)\n",
    "        if month == 2:\n",
    "            march_mean.append(value)\n",
    "        if month == 3:\n",
    "            april_mean.append(value)\n",
    "        if month == 4:\n",
    "            may_mean.append(value)\n",
    "        if month == 5:\n",
    "            june_mean.append(value)\n",
    "        if month == 6:\n",
    "            july_mean.append(value)\n",
    "        if month == 7:\n",
    "            aug_mean.append(value)\n",
    "        if month == 8:\n",
    "            sep_mean.append(value)\n",
    "        if month == 9:\n",
    "            oct_mean.append(value)\n",
    "        if month == 10:\n",
    "            nov_mean.append(value)\n",
    "        if month == 11:\n",
    "            dec_mean.append(value)\n",
    "        \n",
    "\n",
    "##what i did before anna(TA) helped me out\n",
    "#for i,temp in enumerate(sub_AnomC_list):\n",
    " #   if i == 0:\n",
    "  #      jan_mean.append(np.mean(temp[i]))\n",
    "\n",
    "\n",
    "print(jan_mean)\n",
    "print(feb_mean)"
   ]
  },
  {
   "cell_type": "code",
   "execution_count": 202,
   "metadata": {},
   "outputs": [
    {
     "name": "stdout",
     "output_type": "stream",
     "text": [
      "[[0.8600000000000012, 1.17, 1.0199999999999978, 0.8199999999999985, 0.9300000000000015, 1.17, 0.8100000000000005], [0.9000000000000039, 1.3699999999999992, 1.1399999999999988, 0.8499999999999996, 0.9500000000000011, 1.2400000000000002, 0.6400000000000023], [0.9600000000000026, 1.3600000000000012, 1.160000000000002, 0.8800000000000008, 1.17, 1.17, 0.8800000000000008], [0.7599999999999998, 1.1000000000000032, 0.9399999999999995, 0.8900000000000023, 1.0100000000000033, 1.1300000000000008, 0.7500000000000018], [0.8000000000000025, 0.9500000000000011, 0.9100000000000019, 0.8199999999999985, 0.8499999999999996, 1.0100000000000033, 0.7800000000000029], [0.8100000000000005, 0.8000000000000025, 0.7200000000000006, 0.7700000000000014, 0.9000000000000039, 0.9199999999999999, 0.8400000000000016], [0.7299999999999986, 0.8499999999999996, 0.8199999999999985, 0.8199999999999985, 0.9399999999999995, 0.9000000000000039, 0.9199999999999999], [0.8000000000000025, 1.0199999999999978, 0.8700000000000028, 0.7599999999999998, 0.9500000000000011, 0.8700000000000028, 0.8199999999999985], [0.8499999999999996, 0.9100000000000019, 0.7700000000000014, 0.8000000000000025, 0.9300000000000015, 0.9900000000000038, 0.9199999999999999], [1.0900000000000016, 0.8900000000000023, 0.9000000000000039, 1.0199999999999978, 1.0100000000000033, 0.8800000000000008, 1.0000000000000018], [1.0600000000000005, 0.9199999999999999, 0.8800000000000008, 0.8199999999999985, 0.9900000000000038, 1.1000000000000032, 0.9399999999999995], [1.160000000000002, 0.8600000000000012, 0.9300000000000015, 0.9100000000000019, 1.0900000000000016, 0.8100000000000005, 0.8499999999999996]]\n"
     ]
    }
   ],
   "source": [
    "##this is after i get the means, this is the trowup copy_paste\n",
    "\n",
    "mean_list = []\n",
    "for i, tempC in enumerate(sub_AnomC_list):\n",
    "    mean_list.append(np.mean(tempC))\n",
    "    \n",
    "monthly_means_list =[\n",
    "    jan_mean,\n",
    "    feb_mean,\n",
    "    march_mean,\n",
    "    april_mean,\n",
    "    may_mean,\n",
    "    june_mean,\n",
    "    july_mean,\n",
    "    aug_mean,\n",
    "    sep_mean,\n",
    "    oct_mean,\n",
    "    nov_mean,\n",
    "    dec_mean\n",
    "]\n",
    "\n",
    "print(monthly_means_list)"
   ]
  },
  {
   "cell_type": "code",
   "execution_count": 205,
   "metadata": {},
   "outputs": [
    {
     "name": "stdout",
     "output_type": "stream",
     "text": [
      "[0.9685714285714285, 1.0128571428571436, 1.0828571428571439, 0.9400000000000015, 0.8742857142857157, 0.8228571428571444, 0.8542857142857141, 0.8700000000000008, 0.8814285714285729, 0.9700000000000016, 0.9585714285714294, 0.9442857142857155]\n"
     ]
    }
   ],
   "source": [
    "#where i am actually doing the mean for each month before i actually put them all in a list\n",
    "single_months_list = []\n",
    "for i, year in enumerate(monthly_means_list):\n",
    "    single_months_list.append(np.mean(year))\n",
    "    \n",
    "print(single_months_list)"
   ]
  },
  {
   "cell_type": "code",
   "execution_count": 216,
   "metadata": {},
   "outputs": [
    {
     "name": "stdout",
     "output_type": "stream",
     "text": [
      "the average anomaly for January is 0.9685714285714285 degrees Celsius\n",
      "the average anomaly for February is 1.0128571428571436 degrees Celsius\n",
      "the average anomaly for March is 1.0828571428571439 degrees Celsius\n",
      "the average anomaly for April is 0.9400000000000015 degrees Celsius\n",
      "the average anomaly for May is 0.8742857142857157 degrees Celsius\n",
      "the average anomaly for June is 0.8228571428571444 degrees Celsius\n",
      "the average anomaly for July is 0.8542857142857141 degrees Celsius\n",
      "the average anomaly for August is 0.8700000000000008 degrees Celsius\n",
      "the average anomaly for September is 0.8814285714285729 degrees Celsius\n",
      "the average anomaly for October is 0.9700000000000016 degrees Celsius\n",
      "the average anomaly for November is 0.9585714285714294 degrees Celsius\n",
      "the average anomaly for December is 0.9442857142857155 degrees Celsius\n"
     ]
    }
   ],
   "source": [
    "##print with month and units\n",
    "months = ['January', 'February', 'March', 'April', 'May', 'June', 'July', 'August', 'September', 'October', 'November', 'December']\n",
    "\n",
    "for mean, month in zip(single_months_list, months):\n",
    "    print(f\"the average anomaly for {month} is {mean} degrees Celsius\")"
   ]
  },
  {
   "cell_type": "code",
   "execution_count": 211,
   "metadata": {},
   "outputs": [],
   "source": [
    "import matplotlib.pyplot as plt\n",
    "import seaborn as sns"
   ]
  },
  {
   "cell_type": "code",
   "execution_count": 217,
   "metadata": {},
   "outputs": [],
   "source": [
    "short_months = ['Jan', 'Feb', 'Mar', 'April', 'May', 'June', 'July', 'Aug', 'Sep', 'Oct', 'Nov', 'Dec']"
   ]
  },
  {
   "cell_type": "code",
   "execution_count": 219,
   "metadata": {},
   "outputs": [
    {
     "data": {
      "text/plain": [
       "<BarContainer object of 12 artists>"
      ]
     },
     "execution_count": 219,
     "metadata": {},
     "output_type": "execute_result"
    },
    {
     "data": {
      "image/png": "[encoded data removed]",
      "text/plain": [
       "<Figure size 640x480 with 1 Axes>"
      ]
     },
     "metadata": {},
     "output_type": "display_data"
    }
   ],
   "source": [
    "plt.bar(short_months, single_months_list)\n",
    "\n",
    "##EZZZZZZZZZ"
   ]
  },
  {
   "cell_type": "markdown",
   "metadata": {},
   "source": [
    "## 📚  Practice 5.\n",
    "\n",
    "Use a list comprehension to print a list of all months that had an anomaly above the average monthly anomaly.\n",
    "\n",
    "Some helpful code is provided below:\n",
    "```python\n",
    "months = ['January', 'February', 'March', 'April', 'May', 'June', 'July', 'August', 'September', 'October', 'November', 'December']\n",
    "\n",
    "average_anomaly = np.mean(mean_monthly_anomalies)\n",
    "\n",
    "```\n",
    "Recall that list comprehensions can contain <code>if</code> statements. For example:\n",
    "\n",
    "[<code>item</code> for <code>item</code> in <code>list</code> if <code>item</code> > <code>value</code>]\n",
    "\n",
    "And they can also contain enumerate statements:\n",
    "\n",
    "[<code>item</code> for <code>index,item</code> in <code>enumerate(list)</code> if <code>other_list[index]</code> > <code>value</code>]"
   ]
  },
  {
   "cell_type": "markdown",
   "metadata": {},
   "source": [
    "Describe your strategy here:\n",
    "\n"
   ]
  },
  {
   "cell_type": "code",
   "execution_count": 69,
   "metadata": {},
   "outputs": [],
   "source": [
    "# Add your code here:\n",
    "##the average of the anomalies between months\n"
   ]
  }
 ],
 "metadata": {
  "kernelspec": {
   "display_name": "eds217_2023",
   "language": "python",
   "name": "python3"
  },
  "language_info": {
   "codemirror_mode": {
    "name": "ipython",
    "version": 3
   },
   "file_extension": ".py",
   "mimetype": "text/x-python",
   "name": "python",
   "nbconvert_exporter": "python",
   "pygments_lexer": "ipython3",
   "version": "3.10.12"
  },
  "orig_nbformat": 4
 },
 "nbformat": 4,
 "nbformat_minor": 2
}
