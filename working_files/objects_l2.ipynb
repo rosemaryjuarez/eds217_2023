{
 "cells": [
  {
   "cell_type": "code",
   "execution_count": null,
   "metadata": {},
   "outputs": [],
   "source": [
    "my_list = list([1,2,3,4,5,6])\n",
    "\n",
    "min(my_list)\n",
    "my_list.append(121)\n",
    "\n",
    "my_dog"
   ]
  },
  {
   "cell_type": "code",
   "execution_count": null,
   "metadata": {},
   "outputs": [],
   "source": []
  }
 ],
 "metadata": {
  "language_info": {
   "name": "python"
  },
  "orig_nbformat": 4
 },
 "nbformat": 4,
 "nbformat_minor": 2
}
